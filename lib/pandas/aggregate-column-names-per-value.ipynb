{
 "cells": [
  {
   "cell_type": "markdown",
   "id": "verified-certificate",
   "metadata": {},
   "source": [
    "# Aggregate column names per value\n",
    "\n",
    "## Input\n",
    "```\n",
    "| group1 | group2 | group3 |\n",
    "|--------+--------+--------|\n",
    "| val1   | val1   | val2   |\n",
    "| val2   | val2   | val3   |\n",
    "| val4   |        | val5   |\n",
    "```\n",
    "\n",
    "## Output\n",
    "```\n",
    "| value | groups               |\n",
    "|-------+----------------------|\n",
    "| val1  | group1,group2        |\n",
    "| val2  | group1,group2,group3 |\n",
    "| val3  | group3               |\n",
    "| val4  | group1               |\n",
    "| val5  | group3               |\n",
    "```"
   ]
  },
  {
   "cell_type": "code",
   "execution_count": 27,
   "id": "cutting-network",
   "metadata": {},
   "outputs": [
    {
     "data": {
      "text/html": [
       "<div>\n",
       "<style scoped>\n",
       "    .dataframe tbody tr th:only-of-type {\n",
       "        vertical-align: middle;\n",
       "    }\n",
       "\n",
       "    .dataframe tbody tr th {\n",
       "        vertical-align: top;\n",
       "    }\n",
       "\n",
       "    .dataframe thead th {\n",
       "        text-align: right;\n",
       "    }\n",
       "</style>\n",
       "<table border=\"1\" class=\"dataframe\">\n",
       "  <thead>\n",
       "    <tr style=\"text-align: right;\">\n",
       "      <th></th>\n",
       "      <th>group1</th>\n",
       "      <th>group2</th>\n",
       "      <th>group3</th>\n",
       "    </tr>\n",
       "  </thead>\n",
       "  <tbody>\n",
       "    <tr>\n",
       "      <th>0</th>\n",
       "      <td>val1</td>\n",
       "      <td>val1</td>\n",
       "      <td>val2</td>\n",
       "    </tr>\n",
       "    <tr>\n",
       "      <th>1</th>\n",
       "      <td>val2</td>\n",
       "      <td>val2</td>\n",
       "      <td>val3</td>\n",
       "    </tr>\n",
       "    <tr>\n",
       "      <th>2</th>\n",
       "      <td>val4</td>\n",
       "      <td></td>\n",
       "      <td>val5</td>\n",
       "    </tr>\n",
       "  </tbody>\n",
       "</table>\n",
       "</div>"
      ],
      "text/plain": [
       "  group1 group2 group3\n",
       "0   val1   val1   val2\n",
       "1   val2   val2   val3\n",
       "2   val4          val5"
      ]
     },
     "execution_count": 27,
     "metadata": {},
     "output_type": "execute_result"
    }
   ],
   "source": [
    "import io\n",
    "import pandas as pd\n",
    "\n",
    "data = io.StringIO(\"\"\"\n",
    "group1 | group2 | group3\n",
    "val1   | val1   | val2  \n",
    "val2   | val2   | val3  \n",
    "val4   |        | val5  \n",
    "\"\"\")\n",
    "df = pd.read_csv(data, sep='|')\n",
    "df.columns = [c.strip() for c in df.columns]\n",
    "df = df.apply(lambda x: x.str.strip())\n",
    "df.head()"
   ]
  },
  {
   "cell_type": "code",
   "execution_count": 31,
   "id": "secure-fiction",
   "metadata": {},
   "outputs": [
    {
     "data": {
      "text/html": [
       "<div>\n",
       "<style scoped>\n",
       "    .dataframe tbody tr th:only-of-type {\n",
       "        vertical-align: middle;\n",
       "    }\n",
       "\n",
       "    .dataframe tbody tr th {\n",
       "        vertical-align: top;\n",
       "    }\n",
       "\n",
       "    .dataframe thead th {\n",
       "        text-align: right;\n",
       "    }\n",
       "</style>\n",
       "<table border=\"1\" class=\"dataframe\">\n",
       "  <thead>\n",
       "    <tr style=\"text-align: right;\">\n",
       "      <th></th>\n",
       "      <th>value</th>\n",
       "      <th>groups</th>\n",
       "    </tr>\n",
       "  </thead>\n",
       "  <tbody>\n",
       "    <tr>\n",
       "      <th>0</th>\n",
       "      <td>val1</td>\n",
       "      <td>group1,group2</td>\n",
       "    </tr>\n",
       "    <tr>\n",
       "      <th>1</th>\n",
       "      <td>val2</td>\n",
       "      <td>group1,group2,group3</td>\n",
       "    </tr>\n",
       "    <tr>\n",
       "      <th>2</th>\n",
       "      <td>val3</td>\n",
       "      <td>group3</td>\n",
       "    </tr>\n",
       "    <tr>\n",
       "      <th>3</th>\n",
       "      <td>val4</td>\n",
       "      <td>group1</td>\n",
       "    </tr>\n",
       "    <tr>\n",
       "      <th>4</th>\n",
       "      <td>val5</td>\n",
       "      <td>group3</td>\n",
       "    </tr>\n",
       "  </tbody>\n",
       "</table>\n",
       "</div>"
      ],
      "text/plain": [
       "  value                groups\n",
       "0  val1         group1,group2\n",
       "1  val2  group1,group2,group3\n",
       "2  val3                group3\n",
       "3  val4                group1\n",
       "4  val5                group3"
      ]
     },
     "execution_count": 31,
     "metadata": {},
     "output_type": "execute_result"
    }
   ],
   "source": [
    "s = df.unstack()\n",
    "s = s[(~s.isnull()) & (s != '')]\n",
    "s = s.reset_index().drop(['level_1'], axis=1)\n",
    "agg_func = lambda x: ','.join(x)\n",
    "s = s.groupby(0)['level_0'].apply(agg_func).reset_index()\n",
    "s.columns = ['value', 'groups']\n",
    "s"
   ]
  }
 ],
 "metadata": {
  "kernelspec": {
   "display_name": "Python 3",
   "language": "python",
   "name": "python3"
  },
  "language_info": {
   "codemirror_mode": {
    "name": "ipython",
    "version": 3
   },
   "file_extension": ".py",
   "mimetype": "text/x-python",
   "name": "python",
   "nbconvert_exporter": "python",
   "pygments_lexer": "ipython3",
   "version": "3.8.5"
  }
 },
 "nbformat": 4,
 "nbformat_minor": 5
}
