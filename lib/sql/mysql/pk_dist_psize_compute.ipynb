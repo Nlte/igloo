{
 "cells": [
  {
   "cell_type": "code",
   "execution_count": 27,
   "id": "specified-vacuum",
   "metadata": {},
   "outputs": [],
   "source": [
    "from proservices.resources.database import Mysql\n",
    "import pandas as pd\n",
    "import numpy as np\n",
    "import uuid\n",
    "import math\n",
    "from datetime import date\n",
    "from typing import List, Any, Tuple\n",
    "env = 'eulocal'\n",
    "aid = '81B82121-29E3-4B23-B3B0AD6A2CCB2F50'\n",
    "MIN_UUID = uuid.UUID('00000000-0000-0000-0000000000000000')\n",
    "MAX_UUID = uuid.UUID('ffffffff-ffff-ffff-ffffffffffffffff')\n",
    "pagesize = 10000"
   ]
  },
  {
   "cell_type": "code",
   "execution_count": 143,
   "id": "desirable-majority",
   "metadata": {},
   "outputs": [],
   "source": [
    "bounds = Mysql(env).hook().get_pandas_df(f\"SELECT MIN(id) AS 'min', MAX(id) AS 'max' FROM media WHERE accountid = '{aid}'\")"
   ]
  },
  {
   "cell_type": "code",
   "execution_count": 154,
   "id": "metric-north",
   "metadata": {},
   "outputs": [
    {
     "name": "stdout",
     "output_type": "stream",
     "text": [
      "CPU times: user 1.59 ms, sys: 3.55 ms, total: 5.14 ms\n",
      "Wall time: 5.09 ms\n"
     ]
    },
    {
     "data": {
      "text/plain": [
       "[(UUID('00000000-0000-0000-0000-000000000000'),\n",
       "  UUID('0000050e-8067-4442-8a00-000000000000')),\n",
       " (UUID('0000050e-8067-4442-8a00-000000000000'),\n",
       "  UUID('1c71c648-0190-0a00-0000-000000000000')),\n",
       " (UUID('1c71c648-0190-0a00-0000-000000000000'),\n",
       "  UUID('38e38781-82b8-d000-0000-000000000000')),\n",
       " (UUID('38e38781-82b8-d000-0000-000000000000'),\n",
       "  UUID('555548bb-03e1-9400-0000-000000000000')),\n",
       " (UUID('555548bb-03e1-9400-0000-000000000000'),\n",
       "  UUID('71c709f4-850a-5c00-0000-000000000000')),\n",
       " (UUID('71c709f4-850a-5c00-0000-000000000000'),\n",
       "  UUID('8e38cb2e-0633-2800-0000-000000000000')),\n",
       " (UUID('8e38cb2e-0633-2800-0000-000000000000'),\n",
       "  UUID('aaaa8c67-875b-e800-0000-000000000000')),\n",
       " (UUID('aaaa8c67-875b-e800-0000-000000000000'),\n",
       "  UUID('c71c4da1-0884-b000-0000-000000000000')),\n",
       " (UUID('c71c4da1-0884-b000-0000-000000000000'),\n",
       "  UUID('e38e0eda-89ad-7800-0000-000000000000')),\n",
       " (UUID('e38e0eda-89ad-7800-0000-000000000000'),\n",
       "  UUID('ffffd014-0ad6-4000-0000-000000000000')),\n",
       " (UUID('ffffd014-0ad6-4000-0000-000000000000'),\n",
       "  UUID('ffffffff-ffff-ffff-ffff-ffffffffffff'))]"
      ]
     },
     "execution_count": 154,
     "metadata": {},
     "output_type": "execute_result"
    }
   ],
   "source": [
    "%%time\n",
    "min_id = bounds.iloc[0]['min']\n",
    "max_id = bounds.iloc[0]['max']\n",
    "min_uuid_int = uuid.UUID(min_id).int\n",
    "max_uuid_int = uuid.UUID(max_id).int\n",
    "bins = np.linspace(min_uuid_int, max_uuid_int, num=10)\n",
    "bins = [uuid.UUID(int=int(x)) for x in bins]\n",
    "intervals = list(zip(bins[:-1], bins[1:]))\n",
    "intervals.insert(0, (MIN_UUID, bins[0]))\n",
    "intervals.append((bins[-1], MAX_UUID))\n",
    "intervals"
   ]
  },
  {
   "cell_type": "code",
   "execution_count": 156,
   "id": "extensive-alignment",
   "metadata": {},
   "outputs": [
    {
     "name": "stdout",
     "output_type": "stream",
     "text": [
      "reading 0\n",
      "reading 1\n",
      "reading 2\n",
      "reading 3\n",
      "reading 4\n",
      "reading 5\n",
      "reading 6\n",
      "reading 7\n",
      "reading 8\n",
      "reading 9\n",
      "reading 10\n",
      "CPU times: user 21.9 s, sys: 6.94 s, total: 28.8 s\n",
      "Wall time: 27.4 s\n"
     ]
    }
   ],
   "source": [
    "%%time\n",
    "\n",
    "def generate_query(it):\n",
    "    return \"\"\"\n",
    "    SELECT id, name, dateCreated\n",
    "    FROM media\n",
    "    WHERE accountid = '{accountid}'\n",
    "    AND id >= '{lower}' AND id < '{higher}'\n",
    "    \"\"\".format(accountid=aid, lower=it[0], higher=it[1])\n",
    "\n",
    "def generate_queries(its):\n",
    "    return {i:generate_query(it) for i,it in enumerate(its)}\n",
    "\n",
    "\n",
    "def run_queries(queries, conn):\n",
    "    ret = {}\n",
    "    for i, q in queries.items():\n",
    "        print('reading %d' % i)\n",
    "        ret[i] = pd.read_sql(q, conn)\n",
    "    return ret\n",
    "\n",
    "res = run_queries(generate_queries(intervals), conn)\n",
    "#conn.close()"
   ]
  },
  {
   "cell_type": "code",
   "execution_count": 18,
   "id": "periodic-kitchen",
   "metadata": {},
   "outputs": [
    {
     "name": "stdout",
     "output_type": "stream",
     "text": [
      "CPU times: user 9.52 s, sys: 3.01 s, total: 12.5 s\n",
      "Wall time: 11.6 s\n"
     ]
    },
    {
     "data": {
      "text/html": [
       "<div>\n",
       "<style scoped>\n",
       "    .dataframe tbody tr th:only-of-type {\n",
       "        vertical-align: middle;\n",
       "    }\n",
       "\n",
       "    .dataframe tbody tr th {\n",
       "        vertical-align: top;\n",
       "    }\n",
       "\n",
       "    .dataframe thead th {\n",
       "        text-align: right;\n",
       "    }\n",
       "</style>\n",
       "<table border=\"1\" class=\"dataframe\">\n",
       "  <thead>\n",
       "    <tr style=\"text-align: right;\">\n",
       "      <th></th>\n",
       "      <th>id</th>\n",
       "    </tr>\n",
       "  </thead>\n",
       "  <tbody>\n",
       "    <tr>\n",
       "      <th>0</th>\n",
       "      <td>0000050E-8067-4442-89FE216BD22220A2</td>\n",
       "    </tr>\n",
       "    <tr>\n",
       "      <th>1</th>\n",
       "      <td>00001370-05A2-489A-8B41594749284DD3</td>\n",
       "    </tr>\n",
       "    <tr>\n",
       "      <th>2</th>\n",
       "      <td>00001A52-D355-41E5-B4C1744BFFD1C7D0</td>\n",
       "    </tr>\n",
       "    <tr>\n",
       "      <th>3</th>\n",
       "      <td>00003408-2F58-4C62-BC98A0FFF5720F4D</td>\n",
       "    </tr>\n",
       "    <tr>\n",
       "      <th>4</th>\n",
       "      <td>0000B56A-F06B-4A3A-92845A2284CE8C5B</td>\n",
       "    </tr>\n",
       "  </tbody>\n",
       "</table>\n",
       "</div>"
      ],
      "text/plain": [
       "                                    id\n",
       "0  0000050E-8067-4442-89FE216BD22220A2\n",
       "1  00001370-05A2-489A-8B41594749284DD3\n",
       "2  00001A52-D355-41E5-B4C1744BFFD1C7D0\n",
       "3  00003408-2F58-4C62-BC98A0FFF5720F4D\n",
       "4  0000B56A-F06B-4A3A-92845A2284CE8C5B"
      ]
     },
     "execution_count": 18,
     "metadata": {},
     "output_type": "execute_result"
    }
   ],
   "source": [
    "%%time\n",
    "df = pd.read_sql(f\"SELECT id FROM media WHERE accountid = '{aid}'\", conn)\n",
    "df.head()"
   ]
  },
  {
   "cell_type": "code",
   "execution_count": 41,
   "id": "inside-coating",
   "metadata": {},
   "outputs": [],
   "source": [
    "df['int'] = df['id'].apply(lambda x: uuid.UUID(x).int)"
   ]
  },
  {
   "cell_type": "code",
   "execution_count": 88,
   "id": "medieval-translation",
   "metadata": {},
   "outputs": [],
   "source": [
    "import numpy as np\n",
    "from scipy.stats import binned_statistic\n",
    "import seaborn as sns\n",
    "import matplotlib.pyplot as plt\n",
    "sns.set_theme(style=\"ticks\", color_codes=True)"
   ]
  },
  {
   "cell_type": "code",
   "execution_count": 89,
   "id": "worst-portfolio",
   "metadata": {},
   "outputs": [
    {
     "data": {
      "text/plain": [
       "BinnedStatisticResult(statistic=array([1.70378638e+37, 5.10675920e+37, 8.51034113e+37, 1.19117716e+38,\n",
       "       1.53165307e+38, 1.87185975e+38, 2.21113134e+38, 2.55204579e+38,\n",
       "       2.89242203e+38, 3.23336579e+38]), bin_edges=array([1.02560981e+32, 3.40282318e+37, 6.80563610e+37, 1.02084490e+38,\n",
       "       1.36112620e+38, 1.70140749e+38, 2.04168878e+38, 2.38197007e+38,\n",
       "       2.72225136e+38, 3.06253266e+38, 3.40281395e+38]), binnumber=array([1, 1, 1, ..., 7, 8, 8]))"
      ]
     },
     "execution_count": 89,
     "metadata": {},
     "output_type": "execute_result"
    }
   ],
   "source": [
    "binned_statistic(df['float'], df['float'], bins=10, range=(min(df['float']), max(df['float'])))"
   ]
  },
  {
   "cell_type": "code",
   "execution_count": 100,
   "id": "painted-contribution",
   "metadata": {},
   "outputs": [],
   "source": [
    "data = np.random.random(100)\n",
    "bins = np.linspace(0, 1, 10)\n",
    "digitized = np.digitize(data, bins)\n",
    "bin_means = [data[digitized == i].mean() for i in range(1, len(bins))]"
   ]
  },
  {
   "cell_type": "code",
   "execution_count": 117,
   "id": "technical-boost",
   "metadata": {},
   "outputs": [
    {
     "data": {
      "text/plain": [
       "<AxesSubplot:ylabel='Density'>"
      ]
     },
     "execution_count": 117,
     "metadata": {},
     "output_type": "execute_result"
    },
    {
     "data": {
      "image/png": "[encoded data removed]",
      "text/plain": [
       "<Figure size 432x288 with 1 Axes>"
      ]
     },
     "metadata": {},
     "output_type": "display_data"
    }
   ],
   "source": [
    "bins = np.linspace(df['float'].min(), df['float'].max(), 20)\n",
    "inds = np.digitize(df['float'], bins)\n",
    "sns.distplot(inds)"
   ]
  },
  {
   "cell_type": "code",
   "execution_count": 106,
   "id": "comic-northern",
   "metadata": {},
   "outputs": [
    {
     "name": "stdout",
     "output_type": "stream",
     "text": [
      "1.0256098121642296e+32 <= 1.0256098121642296e+32 < 3.4372873326197354e+36\n",
      "1.0256098121642296e+32 <= 3.942410802848724e+32 < 3.4372873326197354e+36\n",
      "1.0256098121642296e+32 <= 5.3390476342807125e+32 < 3.4372873326197354e+36\n",
      "1.0256098121642296e+32 <= 1.0553337772316559e+33 < 3.4372873326197354e+36\n",
      "1.0256098121642296e+32 <= 3.6795887295954196e+33 < 3.4372873326197354e+36\n",
      "1.0256098121642296e+32 <= 4.322467149253519e+33 < 3.4372873326197354e+36\n",
      "1.0256098121642296e+32 <= 4.383838099231311e+33 < 3.4372873326197354e+36\n",
      "1.0256098121642296e+32 <= 5.422572930499637e+33 < 3.4372873326197354e+36\n",
      "1.0256098121642296e+32 <= 6.68340329231854e+33 < 3.4372873326197354e+36\n",
      "1.0256098121642296e+32 <= 7.036565462179693e+33 < 3.4372873326197354e+36\n"
     ]
    }
   ],
   "source": [
    "for n in range(10):#range(df['float'].size):\n",
    "    print(bins[inds[n]-1], \"<=\", df['float'][n], \"<\", bins[inds[n]])"
   ]
  },
  {
   "cell_type": "code",
   "execution_count": 114,
   "id": "legitimate-company",
   "metadata": {},
   "outputs": [],
   "source": [
    "mediaids['int'] = mediaids['id'].apply(lambda x: uuid.UUID(x).int)\n",
    "mediaids['float'] = mediaids['int'].apply(float)"
   ]
  },
  {
   "cell_type": "code",
   "execution_count": 115,
   "id": "baking-kinase",
   "metadata": {},
   "outputs": [
    {
     "data": {
      "text/plain": [
       "<AxesSubplot:ylabel='Density'>"
      ]
     },
     "execution_count": 115,
     "metadata": {},
     "output_type": "execute_result"
    },
    {
     "data": {
      "image/png": "[encoded data removed]",
      "text/plain": [
       "<Figure size 432x288 with 1 Axes>"
      ]
     },
     "metadata": {},
     "output_type": "display_data"
    }
   ],
   "source": [
    "bins = np.linspace(mediaids['float'].min(), mediaids['float'].max(), 100)\n",
    "inds = np.digitize(mediaids['float'], bins)\n",
    "sns.distplot(inds)"
   ]
  },
  {
   "cell_type": "code",
   "execution_count": 118,
   "id": "hourly-retention",
   "metadata": {},
   "outputs": [
    {
     "data": {
      "text/plain": [
       "UUID('00000065-2240-47ab-ba73-fed08eac4de3')"
      ]
     },
     "execution_count": 118,
     "metadata": {},
     "output_type": "execute_result"
    }
   ],
   "source": [
    "uuid.UUID(int=mediaids['int'].iloc[0])"
   ]
  },
  {
   "cell_type": "code",
   "execution_count": 119,
   "id": "scheduled-dover",
   "metadata": {},
   "outputs": [
    {
     "data": {
      "text/plain": [
       "2.124056e+38    1\n",
       "1.794760e+38    1\n",
       "1.459210e+38    1\n",
       "3.198498e+38    1\n",
       "1.543212e+38    1\n",
       "               ..\n",
       "1.958692e+38    1\n",
       "6.965615e+37    1\n",
       "1.997560e+38    1\n",
       "6.264127e+37    1\n",
       "6.747614e+37    1\n",
       "Name: float, Length: 5397427, dtype: int64"
      ]
     },
     "execution_count": 119,
     "metadata": {},
     "output_type": "execute_result"
    }
   ],
   "source": [
    "mediaids['float'].value_counts()"
   ]
  },
  {
   "cell_type": "markdown",
   "id": "enclosed-authorization",
   "metadata": {},
   "source": [
    "### Paritions based on first page / LIMIT"
   ]
  },
  {
   "cell_type": "code",
   "execution_count": 17,
   "id": "further-handle",
   "metadata": {},
   "outputs": [
    {
     "name": "stdout",
     "output_type": "stream",
     "text": [
      "\n",
      "kmin: 000060C2-DEB2-4422-965893DE693A4641\n",
      "kmax: FFFEADB8-CCBC-4705-BF9918F89B682B11\n",
      "pmax: 270BD9E1-8CB9-4ECF-A29F04FC5950B024\n",
      "\n"
     ]
    }
   ],
   "source": [
    "env = 'eulocal'\n",
    "aid = '81B82121-29E3-4B23-B3B0AD6A2CCB2F50'\n",
    "MIN_UUID = uuid.UUID('00000000-0000-0000-0000000000000000')\n",
    "MAX_UUID = uuid.UUID('ffffffff-ffff-ffff-ffffffffffffffff')\n",
    "pagesize = 10000\n",
    "bounds = Mysql(env).hook().get_pandas_df(f\"SELECT MIN(id) AS 'min', MAX(id) AS 'max' FROM media WHERE accountid = '{aid}'\")\n",
    "kmin = bounds.iloc[0]['min']\n",
    "kmax = bounds.iloc[0]['max']\n",
    "first_page = Mysql(env).hook().get_pandas_df(f\"SELECT id AS 'page_max' FROM media WHERE accountid = '{aid}' ORDER BY id ASC LIMIT {pagesize}\")\n",
    "pmax = first_page.iloc[-1]['page_max']\n",
    "print(\"\"\"\n",
    "kmin: %s\n",
    "kmax: %s\n",
    "pmax: %s\n",
    "\"\"\" % (kmin, kmax, pmax))"
   ]
  },
  {
   "cell_type": "code",
   "execution_count": 24,
   "id": "sitting-currency",
   "metadata": {},
   "outputs": [
    {
     "data": {
      "text/plain": [
       "6"
      ]
     },
     "execution_count": 24,
     "metadata": {},
     "output_type": "execute_result"
    }
   ],
   "source": [
    "kmin_int = uuid.UUID(kmin).int\n",
    "kmax_int = uuid.UUID(kmax).int\n",
    "pmax_int = uuid.UUID(pmax).int\n",
    "partition_size_estimate = pmax_int - kmin_int\n",
    "space_size = kmax_int - kmin_int\n",
    "num_partitions = int(space_size / partition_size_estimate)\n",
    "num_partitions"
   ]
  },
  {
   "cell_type": "code",
   "execution_count": 28,
   "id": "protected-education",
   "metadata": {},
   "outputs": [
    {
     "data": {
      "text/plain": [
       "[(UUID('00000000-0000-0000-0000-000000000000'),\n",
       "  UUID('2aaac2eb-dbb3-ee00-0000-000000000000')),\n",
       " (UUID('2aaac2eb-dbb3-ee00-0000-000000000000'),\n",
       "  UUID('55552514-d8b5-9800-0000-000000000000')),\n",
       " (UUID('55552514-d8b5-9800-0000-000000000000'),\n",
       "  UUID('7fff873d-d5b7-4400-0000-000000000000')),\n",
       " (UUID('7fff873d-d5b7-4400-0000-000000000000'),\n",
       "  UUID('aaa9e966-d2b8-f000-0000-000000000000')),\n",
       " (UUID('aaa9e966-d2b8-f000-0000-000000000000'),\n",
       "  UUID('d5544b8f-cfba-9800-0000-000000000000')),\n",
       " (UUID('d5544b8f-cfba-9800-0000-000000000000'),\n",
       "  UUID('ffffffff-ffff-ffff-ffff-ffffffffffff'))]"
      ]
     },
     "execution_count": 28,
     "metadata": {},
     "output_type": "execute_result"
    }
   ],
   "source": [
    "def get_partition_bounds(\n",
    "    num_partitions: int,\n",
    "    min_value: Any,\n",
    "    max_value: Any,\n",
    "    type_min_limit: Any = None,\n",
    "    type_max_limit: Any = None,\n",
    ") -> List[Tuple[Any, Any]]:\n",
    "    bins = np.linspace(min_value, max_value, num=num_partitions + 1)\n",
    "    intervals = list(zip(bins[:-1], bins[1:]))\n",
    "    # make sure we don't miss elements on limits\n",
    "    if type_min_limit is not None:\n",
    "        intervals[0] = (type_min_limit, intervals[0][1])\n",
    "    if type_max_limit is not None:\n",
    "        intervals[-1] = (intervals[-1][0], type_max_limit)\n",
    "    return intervals\n",
    "\n",
    "def get_partition_bounds_uuid(\n",
    "    num_partitions: int, min_value: str, max_value: str\n",
    ") -> List[Tuple[Any, Any]]:\n",
    "    min_v = uuid.UUID(min_value).int\n",
    "    max_v = uuid.UUID(max_value).int\n",
    "    intervals = get_partition_bounds(\n",
    "        num_partitions,\n",
    "        min_v,\n",
    "        max_v,\n",
    "        uuid.UUID(\"00000000-0000-0000-0000000000000000\").int,\n",
    "        uuid.UUID(\"ffffffff-ffff-ffff-ffffffffffffffff\").int,\n",
    "    )\n",
    "    intervals = [\n",
    "        (uuid.UUID(int=int(v[0])), uuid.UUID(int=int(v[1]))) for v in intervals\n",
    "    ]\n",
    "    return intervals\n",
    "\n",
    "bounds = get_partition_bounds_uuid(num_partitions, kmin, kmax)\n",
    "bounds"
   ]
  },
  {
   "cell_type": "code",
   "execution_count": 30,
   "id": "annoying-james",
   "metadata": {},
   "outputs": [
    {
     "name": "stdout",
     "output_type": "stream",
     "text": [
      "fetching part 0\n",
      "fetching part 1\n",
      "fetching part 2\n",
      "fetching part 3\n",
      "fetching part 4\n",
      "fetching part 5\n"
     ]
    }
   ],
   "source": [
    "parts = []\n",
    "for i, b in enumerate(bounds):\n",
    "    print('fetching part %d' % i)\n",
    "    lb = b[0]\n",
    "    ub = b[1]\n",
    "    parts.append(Mysql(env).hook().get_pandas_df(f\"SELECT id FROM media WHERE accountid = '{aid}' AND id >= '{lb}' AND id < '{ub}'\"))"
   ]
  },
  {
   "cell_type": "code",
   "execution_count": 31,
   "id": "sublime-finding",
   "metadata": {},
   "outputs": [
    {
     "name": "stdout",
     "output_type": "stream",
     "text": [
      "part: 0 len: 10957\n",
      "part: 1 len: 10820\n",
      "part: 2 len: 10746\n",
      "part: 3 len: 10930\n",
      "part: 4 len: 10787\n",
      "part: 5 len: 10797\n"
     ]
    }
   ],
   "source": [
    "for i, p in enumerate(parts):\n",
    "    print('part: %d len: %d' % (i, len(p)))"
   ]
  },
  {
   "cell_type": "markdown",
   "id": "agricultural-context",
   "metadata": {},
   "source": [
    "# Queries\n",
    "\n",
    "\n",
    "SELECT mi.id, mi.mediaid, mi.originalFilename\n",
    "FROM mediaitems mi\n",
    "WHERE mi.id > '0008C7A6-1D08-4B04-AE9C35D5C18015AF'\n",
    "ORDER BY mi.id ASC\n",
    "LIMIT 10000;\n",
    "\n",
    "SET @aid = '01AB8F36-582D-4319-AD98F0B687E3512F';\n",
    "\n",
    "SET profiling = 1;\n",
    "\n",
    "SELECT id, name, dateCreated\n",
    "    FROM media\n",
    "    WHERE accountid = '01AB8F36-582D-4319-AD98F0B687E3512F';\n",
    "    \n",
    "SHOW PROFILES;\n",
    "\n",
    "SHOW PROCESSLIST;\n",
    "\n",
    "\n",
    "SHOW VARIABLES LIKE '%timeout%';\n",
    "\n",
    "\n",
    "SELECT *\n",
    "FROM media\n",
    "WHERE id < '0000050e-8067-4442-8a00-000000000000'\n",
    "AND id >= '00000000-0000-0000-0000-000000000000'\n",
    "AND accountid = '01AB8F36-582D-4319-AD98F0B687E3512F'\n",
    "LIMIT 100;\n",
    "\n",
    "SELECT MIN(id) AS 'min', MAX(id) AS 'max' FROM media WHERE accountid = @aid;\n",
    "\n",
    "SELECT COUNT(1) FROM media WHERE accountid = @aid;\n",
    "\n",
    "\n",
    "SELECT MIN(id), MAX(id)\n",
    "FROM mediaitems;\n",
    "\n",
    "SELECT COUNT(*) FROM mediaitems;\n",
    "\n",
    "SHOW table status;\n",
    "\n",
    "SELECT *\n",
    "FROM mediaitems\n",
    "WHERE id > ''\n",
    "LIMIT 10;"
   ]
  }
 ],
 "metadata": {
  "kernelspec": {
   "display_name": "Python 3",
   "language": "python",
   "name": "python3"
  },
  "language_info": {
   "codemirror_mode": {
    "name": "ipython",
    "version": 3
   },
   "file_extension": ".py",
   "mimetype": "text/x-python",
   "name": "python",
   "nbconvert_exporter": "python",
   "pygments_lexer": "ipython3",
   "version": "3.8.5"
  }
 },
 "nbformat": 4,
 "nbformat_minor": 5
}
